{
  "nbformat": 4,
  "nbformat_minor": 0,
  "metadata": {
    "colab": {
      "provenance": []
    },
    "kernelspec": {
      "name": "python3",
      "display_name": "Python 3"
    },
    "language_info": {
      "name": "python"
    },
    "accelerator": "GPU"
  },
  "cells": [
    {
      "cell_type": "markdown",
      "source": [
        "Je me suis basé sur le tutoriel de Titouan Parcollet (https://github.com/TParcollet/Tutoriel-Graph-Neural-Networks) pour le modèle, le train et le test que j'ai adapté à la tâche demandée.\n",
        "\n",
        "Le traitement des données (Dataloader, AtomEncoder), ainsi que l'évaluation (Evaluator) sont donnés par le sujet du défi : https://ogb.stanford.edu/docs/graphprop/#ogbg-mol"
      ],
      "metadata": {
        "id": "LZxI2ES8p43X"
      }
    },
    {
      "cell_type": "code",
      "source": [
        "# Je me suis basé sur le tutoriel de Titouan Parcollet (https://github.com/TParcollet/Tutoriel-Graph-Neural-Networks) pour le modèle, le train et le test"
      ],
      "metadata": {
        "id": "IbPwqgn1pRe6"
      },
      "execution_count": 1,
      "outputs": []
    },
    {
      "cell_type": "code",
      "execution_count": 2,
      "metadata": {
        "colab": {
          "base_uri": "https://localhost:8080/"
        },
        "id": "SavuuSIzkwvt",
        "outputId": "bf0863cd-02f2-487d-eaef-59905691d84d"
      },
      "outputs": [
        {
          "output_type": "stream",
          "name": "stdout",
          "text": [
            "Looking in indexes: https://pypi.org/simple, https://us-python.pkg.dev/colab-wheels/public/simple/\n",
            "Collecting ogb\n",
            "  Downloading ogb-1.3.4-py3-none-any.whl (78 kB)\n",
            "\u001b[K     |████████████████████████████████| 78 kB 7.7 MB/s \n",
            "\u001b[?25hRequirement already satisfied: numpy>=1.16.0 in /usr/local/lib/python3.7/dist-packages (from ogb) (1.21.6)\n",
            "Requirement already satisfied: urllib3>=1.24.0 in /usr/local/lib/python3.7/dist-packages (from ogb) (1.24.3)\n",
            "Collecting outdated>=0.2.0\n",
            "  Downloading outdated-0.2.1-py3-none-any.whl (7.5 kB)\n",
            "Requirement already satisfied: pandas>=0.24.0 in /usr/local/lib/python3.7/dist-packages (from ogb) (1.3.5)\n",
            "Requirement already satisfied: torch>=1.6.0 in /usr/local/lib/python3.7/dist-packages (from ogb) (1.12.1+cu113)\n",
            "Requirement already satisfied: tqdm>=4.29.0 in /usr/local/lib/python3.7/dist-packages (from ogb) (4.64.1)\n",
            "Requirement already satisfied: six>=1.12.0 in /usr/local/lib/python3.7/dist-packages (from ogb) (1.15.0)\n",
            "Requirement already satisfied: scikit-learn>=0.20.0 in /usr/local/lib/python3.7/dist-packages (from ogb) (1.0.2)\n",
            "Collecting littleutils\n",
            "  Downloading littleutils-0.2.2.tar.gz (6.6 kB)\n",
            "Requirement already satisfied: requests in /usr/local/lib/python3.7/dist-packages (from outdated>=0.2.0->ogb) (2.23.0)\n",
            "Requirement already satisfied: pytz>=2017.3 in /usr/local/lib/python3.7/dist-packages (from pandas>=0.24.0->ogb) (2022.4)\n",
            "Requirement already satisfied: python-dateutil>=2.7.3 in /usr/local/lib/python3.7/dist-packages (from pandas>=0.24.0->ogb) (2.8.2)\n",
            "Requirement already satisfied: threadpoolctl>=2.0.0 in /usr/local/lib/python3.7/dist-packages (from scikit-learn>=0.20.0->ogb) (3.1.0)\n",
            "Requirement already satisfied: joblib>=0.11 in /usr/local/lib/python3.7/dist-packages (from scikit-learn>=0.20.0->ogb) (1.2.0)\n",
            "Requirement already satisfied: scipy>=1.1.0 in /usr/local/lib/python3.7/dist-packages (from scikit-learn>=0.20.0->ogb) (1.7.3)\n",
            "Requirement already satisfied: typing-extensions in /usr/local/lib/python3.7/dist-packages (from torch>=1.6.0->ogb) (4.1.1)\n",
            "Requirement already satisfied: idna<3,>=2.5 in /usr/local/lib/python3.7/dist-packages (from requests->outdated>=0.2.0->ogb) (2.10)\n",
            "Requirement already satisfied: chardet<4,>=3.0.2 in /usr/local/lib/python3.7/dist-packages (from requests->outdated>=0.2.0->ogb) (3.0.4)\n",
            "Requirement already satisfied: certifi>=2017.4.17 in /usr/local/lib/python3.7/dist-packages (from requests->outdated>=0.2.0->ogb) (2022.9.24)\n",
            "Building wheels for collected packages: littleutils\n",
            "  Building wheel for littleutils (setup.py) ... \u001b[?25l\u001b[?25hdone\n",
            "  Created wheel for littleutils: filename=littleutils-0.2.2-py3-none-any.whl size=7048 sha256=e6496e4da96f5a461a32c1bf168816cccbec88f644b3b5cbd6456dc24514868d\n",
            "  Stored in directory: /root/.cache/pip/wheels/d6/64/cd/32819b511a488e4993f2fab909a95330289c3f4e0f6ef4676d\n",
            "Successfully built littleutils\n",
            "Installing collected packages: littleutils, outdated, ogb\n",
            "Successfully installed littleutils-0.2.2 ogb-1.3.4 outdated-0.2.1\n",
            "Looking in indexes: https://pypi.org/simple, https://us-python.pkg.dev/colab-wheels/public/simple/\n",
            "Looking in links: https://data.pyg.org/whl/torch-1.12.0+cu113.html\n",
            "Collecting torch-scatter\n",
            "  Downloading https://data.pyg.org/whl/torch-1.12.0%2Bcu113/torch_scatter-2.0.9-cp37-cp37m-linux_x86_64.whl (7.9 MB)\n",
            "\u001b[K     |████████████████████████████████| 7.9 MB 7.6 MB/s \n",
            "\u001b[?25hCollecting torch-sparse\n",
            "  Downloading https://data.pyg.org/whl/torch-1.12.0%2Bcu113/torch_sparse-0.6.15-cp37-cp37m-linux_x86_64.whl (3.5 MB)\n",
            "\u001b[K     |████████████████████████████████| 3.5 MB 52.1 MB/s \n",
            "\u001b[?25hCollecting torch-cluster\n",
            "  Downloading https://data.pyg.org/whl/torch-1.12.0%2Bcu113/torch_cluster-1.6.0-cp37-cp37m-linux_x86_64.whl (2.4 MB)\n",
            "\u001b[K     |████████████████████████████████| 2.4 MB 52.6 MB/s \n",
            "\u001b[?25hCollecting torch-spline-conv\n",
            "  Downloading https://data.pyg.org/whl/torch-1.12.0%2Bcu113/torch_spline_conv-1.2.1-cp37-cp37m-linux_x86_64.whl (709 kB)\n",
            "\u001b[K     |████████████████████████████████| 709 kB 55.3 MB/s \n",
            "\u001b[?25hCollecting torch-geometric\n",
            "  Downloading torch_geometric-2.1.0.post1.tar.gz (467 kB)\n",
            "\u001b[K     |████████████████████████████████| 467 kB 36.0 MB/s \n",
            "\u001b[?25hRequirement already satisfied: scipy in /usr/local/lib/python3.7/dist-packages (from torch-sparse) (1.7.3)\n",
            "Requirement already satisfied: tqdm in /usr/local/lib/python3.7/dist-packages (from torch-geometric) (4.64.1)\n",
            "Requirement already satisfied: numpy in /usr/local/lib/python3.7/dist-packages (from torch-geometric) (1.21.6)\n",
            "Requirement already satisfied: jinja2 in /usr/local/lib/python3.7/dist-packages (from torch-geometric) (2.11.3)\n",
            "Requirement already satisfied: requests in /usr/local/lib/python3.7/dist-packages (from torch-geometric) (2.23.0)\n",
            "Requirement already satisfied: pyparsing in /usr/local/lib/python3.7/dist-packages (from torch-geometric) (3.0.9)\n",
            "Requirement already satisfied: scikit-learn in /usr/local/lib/python3.7/dist-packages (from torch-geometric) (1.0.2)\n",
            "Requirement already satisfied: MarkupSafe>=0.23 in /usr/local/lib/python3.7/dist-packages (from jinja2->torch-geometric) (2.0.1)\n",
            "Requirement already satisfied: urllib3!=1.25.0,!=1.25.1,<1.26,>=1.21.1 in /usr/local/lib/python3.7/dist-packages (from requests->torch-geometric) (1.24.3)\n",
            "Requirement already satisfied: certifi>=2017.4.17 in /usr/local/lib/python3.7/dist-packages (from requests->torch-geometric) (2022.9.24)\n",
            "Requirement already satisfied: chardet<4,>=3.0.2 in /usr/local/lib/python3.7/dist-packages (from requests->torch-geometric) (3.0.4)\n",
            "Requirement already satisfied: idna<3,>=2.5 in /usr/local/lib/python3.7/dist-packages (from requests->torch-geometric) (2.10)\n",
            "Requirement already satisfied: threadpoolctl>=2.0.0 in /usr/local/lib/python3.7/dist-packages (from scikit-learn->torch-geometric) (3.1.0)\n",
            "Requirement already satisfied: joblib>=0.11 in /usr/local/lib/python3.7/dist-packages (from scikit-learn->torch-geometric) (1.2.0)\n",
            "Building wheels for collected packages: torch-geometric\n",
            "  Building wheel for torch-geometric (setup.py) ... \u001b[?25l\u001b[?25hdone\n",
            "  Created wheel for torch-geometric: filename=torch_geometric-2.1.0.post1-py3-none-any.whl size=689859 sha256=6ae0f89357bc4381121a16d70c97e6b89dd4b93c444e8826bd3c7e4f3826ee64\n",
            "  Stored in directory: /root/.cache/pip/wheels/d1/cb/43/f7f2e472de4d7cff31bceddadc36d634e1e545fbc17961c282\n",
            "Successfully built torch-geometric\n",
            "Installing collected packages: torch-spline-conv, torch-sparse, torch-scatter, torch-geometric, torch-cluster\n",
            "Successfully installed torch-cluster-1.6.0 torch-geometric-2.1.0.post1 torch-scatter-2.0.9 torch-sparse-0.6.15 torch-spline-conv-1.2.1\n"
          ]
        }
      ],
      "source": [
        "!pip install ogb\n",
        "!pip install torch-scatter torch-sparse torch-cluster torch-spline-conv torch-geometric -f https://data.pyg.org/whl/torch-1.12.0+cu113.html"
      ]
    },
    {
      "cell_type": "code",
      "source": [
        "from ogb.graphproppred import PygGraphPropPredDataset\n",
        "from ogb.graphproppred import Evaluator\n",
        "\n",
        "from ogb.graphproppred.mol_encoder import AtomEncoder\n",
        "\n",
        "import torch\n",
        "import torch.nn as nn\n",
        "import torch.nn.functional as F\n",
        "\n",
        "from torch_geometric.loader import DataLoader\n",
        "import torch_geometric.nn as pyg_nn"
      ],
      "metadata": {
        "id": "xjyKBSgXk3va"
      },
      "execution_count": 3,
      "outputs": []
    },
    {
      "cell_type": "code",
      "source": [
        "class GNN(nn.Module):\n",
        "    def __init__(self, input_dim, hidden_dim, output_dim, criterion, conv_type=\"GCN\", num_layer=3, dropout=0.25):\n",
        "        super(GNN, self).__init__()\n",
        "        self.dropout = dropout\n",
        "        self.num_layers = num_layer\n",
        "        self.conv_type = conv_type\n",
        "        self.criterion = criterion\n",
        "        self.conv_bn = pyg_nn.BatchNorm(hidden_dim)\n",
        "        self.convs = nn.ModuleList()\n",
        "        self.convs.append(self.build_conv_model(input_dim, hidden_dim))\n",
        "        \n",
        "        for l in range(num_layer-1):\n",
        "            self.convs.append(self.build_conv_model(hidden_dim, hidden_dim))\n",
        "\n",
        "        self.post_mp = nn.Sequential(\n",
        "            nn.Linear(hidden_dim, hidden_dim), nn.Dropout(dropout),\n",
        "            nn.Linear(hidden_dim, output_dim))\n",
        "\n",
        "    def build_conv_model(self, input_dim, hidden_dim):\n",
        "        if self.conv_type == \"SAGE\":\n",
        "            return pyg_nn.SAGEConv(input_dim, hidden_dim)\n",
        "        elif self.conv_type == \"GIN\":\n",
        "            return pyg_nn.GINConv(nn.Sequential(nn.Linear(input_dim, hidden_dim), nn.ReLU(), nn.Linear(hidden_dim, hidden_dim)))\n",
        "        elif self.conv_type == \"GATConv\":\n",
        "            return pyg_nn.GATConv(input_dim, hidden_dim)\n",
        "        elif self.conv_type == \"GATv2Conv\":\n",
        "            return pyg_nn.GATv2Conv(input_dim, hidden_dim)\n",
        "        else:\n",
        "            return pyg_nn.GCNConv(input_dim, hidden_dim)\n",
        "\n",
        "    def forward(self, x, edge_index, batch):\n",
        "        for i in range(self.num_layers):\n",
        "            x = self.convs[i](x, edge_index)\n",
        "            x = F.relu(x)\n",
        "            x = F.dropout(x, p=self.dropout, training=self.training)\n",
        "        x = self.conv_bn(x)\n",
        "        x = pyg_nn.global_mean_pool(x, batch)\n",
        "        x = self.post_mp(x)\n",
        "        return F.log_softmax(x, dim=1)\n",
        "\n",
        "    def loss(self, pred, label):\n",
        "        return self.criterion(pred, label)"
      ],
      "metadata": {
        "id": "edp4yDUkk7pB"
      },
      "execution_count": 14,
      "outputs": []
    },
    {
      "cell_type": "code",
      "source": [
        "def train(model, dataset, epochs, print_steps, batch_size, optimizer, atom_encoder, evaluator):\n",
        "\n",
        "    # Traitement des données\n",
        "    split_idx = dataset.get_idx_split()\n",
        "\n",
        "    train_loader = DataLoader(dataset[split_idx[\"train\"]], batch_size=batch_size, shuffle=True)\n",
        "    valid_loader = DataLoader(dataset[split_idx[\"valid\"]], batch_size=batch_size, shuffle=False)\n",
        "    test_loader = DataLoader(dataset[split_idx[\"test\"]], batch_size=batch_size, shuffle=False)\n",
        "\n",
        "    # Apprentissage\n",
        "    print(\"Learning...\")\n",
        "    best_valid_rocauc = 0\n",
        "    best_epoch = 0\n",
        "    best_model = model\n",
        "    best_loss = 0\n",
        "\n",
        "    for epoch in range(1, epochs + 1):\n",
        "        total_loss = 0\n",
        "        model.train()\n",
        "        for batch in train_loader:\n",
        "            optimizer.zero_grad()\n",
        "            x, edge_index, num_batch = batch.x, batch.edge_index, batch.batch\n",
        "            atom_emb = atom_encoder(x)\n",
        "            out = model(atom_emb, edge_index, num_batch)\n",
        "            label = batch.y\n",
        "            loss = model.loss(out, label.squeeze(1))\n",
        "            loss.backward()\n",
        "            optimizer.step()\n",
        "            total_loss += loss.item() * batch.num_graphs\n",
        "        total_loss /= len(train_loader.dataset)\n",
        "\n",
        "        valid_rocauc = test(valid_loader, model, evaluator, atom_encoder)\n",
        "\n",
        "        if valid_rocauc > best_valid_rocauc:\n",
        "            best_valid_rocauc = valid_rocauc\n",
        "            torch.save(model, 'model.pth')\n",
        "            best_epoch = epoch\n",
        "            best_loss = total_loss\n",
        "\n",
        "        if epoch % print_steps == 0:\n",
        "            print(\"Itération {}. Loss: {:.4f}. Validation: {:.4f}\".format(\n",
        "                epoch, total_loss, valid_rocauc))\n",
        "\n",
        "    print()\n",
        "    print()\n",
        "    print(\"Evaluating...\")\n",
        "    print()\n",
        "    best_model = torch.load('model.pth')\n",
        "    test_rocauc = test(test_loader, best_model, evaluator, atom_encoder)\n",
        "    print(f'Best model at epoch: {best_epoch:02d}')\n",
        "    print(f'Loss: {best_loss:.4f}, '\n",
        "          f'Test: {100 * test_rocauc:.2f}%')\n",
        "\n",
        "    return model"
      ],
      "metadata": {
        "id": "AGpF6rWSk9k0"
      },
      "execution_count": 15,
      "outputs": []
    },
    {
      "cell_type": "code",
      "source": [
        "def test(loader, model, evaluator, atom_encoder):\n",
        "    model.eval()\n",
        "\n",
        "    preds = []\n",
        "    labels = []\n",
        "\n",
        "    with torch.no_grad():\n",
        "      for data in loader:\n",
        "            x, edge_index, num_batch = data.x, data.edge_index, data.batch\n",
        "            atom_emb = atom_encoder(x)\n",
        "            out = model(atom_emb, edge_index, num_batch)[:, 1]\n",
        "            label = data.y\n",
        "            preds.append(out.detach().cpu())\n",
        "            labels.append(label.view(label.shape).detach().cpu())\n",
        "\n",
        "    preds = torch.cat(preds, dim=0).unsqueeze(1).numpy()\n",
        "    labels = torch.cat(labels, dim=0).numpy()\n",
        "\n",
        "    input_dict = {\"y_true\": labels, \"y_pred\": preds}\n",
        "    return evaluator.eval(input_dict)['rocauc']"
      ],
      "metadata": {
        "id": "3sViDEiIk_jG"
      },
      "execution_count": 16,
      "outputs": []
    },
    {
      "cell_type": "code",
      "source": [
        "def run():\n",
        "    d_name = \"ogbg-molhiv\"\n",
        "\n",
        "    dataset = PygGraphPropPredDataset(name=d_name)\n",
        "    dataset.data.to(device)\n",
        "    evaluator = Evaluator(name=d_name)\n",
        "\n",
        "    epochs = 20\n",
        "    print_steps = 1\n",
        "\n",
        "    lr = 0.001\n",
        "    batch_size = 32\n",
        "\n",
        "    input_dim = 100\n",
        "    hidden_dim = 128\n",
        "    conv_type = \"GATv2Conv\"\n",
        "    num_conv_layer = 3\n",
        "    dropout = 0.25\n",
        "\n",
        "    atom_encoder = AtomEncoder(emb_dim=input_dim).to(device)\n",
        "\n",
        "    criterion = nn.CrossEntropyLoss()\n",
        "    model = GNN(input_dim, hidden_dim, dataset.num_classes, criterion, conv_type=conv_type, num_layer=num_conv_layer, dropout=dropout).to(device)\n",
        "    optimizer = torch.optim.Adam(model.parameters(), lr=lr)\n",
        "\n",
        "    model = train(model, dataset, epochs, print_steps, batch_size, optimizer, atom_encoder, evaluator)"
      ],
      "metadata": {
        "id": "CByhhxPKlB_M"
      },
      "execution_count": 17,
      "outputs": []
    },
    {
      "cell_type": "code",
      "source": [
        "device = 'cuda' if torch.cuda.is_available() else 'cpu'\n",
        "device = torch.device(device)\n",
        "print(\"Device : \", device)\n",
        "\n",
        "run()"
      ],
      "metadata": {
        "colab": {
          "base_uri": "https://localhost:8080/"
        },
        "id": "qD79ywiRlFXV",
        "outputId": "0378fba2-8472-4a35-8cd8-7000bb515adb"
      },
      "execution_count": 18,
      "outputs": [
        {
          "output_type": "stream",
          "name": "stdout",
          "text": [
            "Device :  cuda\n",
            "Learning...\n",
            "Itération 1. Loss: 0.1740. Validation: 0.7133\n",
            "Itération 2. Loss: 0.1553. Validation: 0.7242\n",
            "Itération 3. Loss: 0.1534. Validation: 0.7213\n",
            "Itération 4. Loss: 0.1503. Validation: 0.6021\n",
            "Itération 5. Loss: 0.1498. Validation: 0.7268\n",
            "Itération 6. Loss: 0.1486. Validation: 0.6696\n",
            "Itération 7. Loss: 0.1479. Validation: 0.7597\n",
            "Itération 8. Loss: 0.1481. Validation: 0.7436\n",
            "Itération 9. Loss: 0.1463. Validation: 0.7529\n",
            "Itération 10. Loss: 0.1462. Validation: 0.7420\n",
            "Itération 11. Loss: 0.1457. Validation: 0.7571\n",
            "Itération 12. Loss: 0.1447. Validation: 0.7437\n",
            "Itération 13. Loss: 0.1437. Validation: 0.7431\n",
            "Itération 14. Loss: 0.1433. Validation: 0.7108\n",
            "Itération 15. Loss: 0.1432. Validation: 0.7251\n",
            "Itération 16. Loss: 0.1430. Validation: 0.7538\n",
            "Itération 17. Loss: 0.1422. Validation: 0.7152\n",
            "Itération 18. Loss: 0.1413. Validation: 0.7510\n",
            "Itération 19. Loss: 0.1414. Validation: 0.7597\n",
            "Itération 20. Loss: 0.1409. Validation: 0.7983\n",
            "\n",
            "\n",
            "Evaluating...\n",
            "\n",
            "Best model at epoch: 20\n",
            "Loss: 0.1409, Test: 72.84%\n"
          ]
        }
      ]
    }
  ]
}