{
  "nbformat": 4,
  "nbformat_minor": 0,
  "metadata": {
    "colab": {
      "provenance": []
    },
    "kernelspec": {
      "name": "python3",
      "display_name": "Python 3"
    },
    "language_info": {
      "name": "python"
    },
    "accelerator": "GPU"
  },
  "cells": [
    {
      "cell_type": "markdown",
      "source": [
        "Je me suis basé sur le tutoriel de Titouan Parcollet (https://github.com/TParcollet/Tutoriel-Graph-Neural-Networks) pour le modèle, le train et le test que j'ai adapté à la tâche demandée.\n",
        "\n",
        "Le traitement des données (Dataloader, AtomEncoder), ainsi que l'évaluation (Evaluator) sont donnés par le sujet du défi : https://ogb.stanford.edu/docs/graphprop/#ogbg-mol\n",
        "\n",
        "La gestion des données (i.e les masques) est inspirée du tutoriel d'Antonio Longa (https://github.com/AntonioLonga/AdvancePyTorchGeometricTutorials/blob/main/Tutorial1/Tutorial_1.ipynb)"
      ],
      "metadata": {
        "id": "Ntyi0H2ttbuK"
      }
    },
    {
      "cell_type": "code",
      "execution_count": null,
      "metadata": {
        "id": "ciBvZyS6gOY7"
      },
      "outputs": [],
      "source": [
        "!pip install ogb\n",
        "!pip install torch-scatter torch-sparse torch-cluster torch-spline-conv torch-geometric -f https://data.pyg.org/whl/torch-1.12.0+cu113.html"
      ]
    },
    {
      "cell_type": "code",
      "source": [
        "from ogb.nodeproppred import PygNodePropPredDataset, Evaluator\n",
        "\n",
        "import torch\n",
        "import torch.nn as nn\n",
        "import torch.nn.functional as F\n",
        "\n",
        "import torch_geometric.transforms as T\n",
        "from torch_geometric.loader import DataLoader\n",
        "from torch_geometric.nn import GCNConv, GATv2Conv\n",
        "import torch_geometric.nn as pyg_nn"
      ],
      "metadata": {
        "id": "5bkIoy8ygVkG"
      },
      "execution_count": 2,
      "outputs": []
    },
    {
      "cell_type": "code",
      "source": [
        "class GNN(nn.Module):\n",
        "    def __init__(self, input_dim, hidden_dim, output_dim, criterion, conv_type=\"GCN\", num_layer=3, dropout=0.25):\n",
        "        super(GNN, self).__init__()\n",
        "        self.dropout = dropout\n",
        "        self.num_layers = num_layer\n",
        "        self.conv_type = conv_type\n",
        "        self.criterion = criterion\n",
        "        self.conv_bn = pyg_nn.BatchNorm(hidden_dim)\n",
        "        self.convs = nn.ModuleList()\n",
        "        self.convs.append(self.build_conv_model(input_dim, hidden_dim))\n",
        "        \n",
        "        for l in range(num_layer-1):\n",
        "            self.convs.append(self.build_conv_model(hidden_dim, hidden_dim))\n",
        "\n",
        "        self.post_mp = nn.Sequential(\n",
        "            nn.Linear(hidden_dim, hidden_dim), nn.Dropout(dropout),\n",
        "            nn.Linear(hidden_dim, output_dim))\n",
        "\n",
        "    def build_conv_model(self, input_dim, hidden_dim):\n",
        "        if self.conv_type == \"SAGE\":\n",
        "            return pyg_nn.SAGEConv(input_dim, hidden_dim)\n",
        "        elif self.conv_type == \"GIN\":\n",
        "            return pyg_nn.GINConv(nn.Sequential(nn.Linear(input_dim, hidden_dim), nn.ReLU(), nn.Linear(hidden_dim, hidden_dim)))\n",
        "        else:\n",
        "            return pyg_nn.GCNConv(input_dim, hidden_dim)\n",
        "\n",
        "    def forward(self, x, edge_index):\n",
        "        for i in range(self.num_layers):\n",
        "            x = self.convs[i](x, edge_index)\n",
        "            x = F.relu(x)\n",
        "            x = F.dropout(x, p=self.dropout, training=self.training)\n",
        "        x = self.conv_bn(x)\n",
        "        x = self.post_mp(x)\n",
        "        return F.log_softmax(x, dim=1)\n",
        "\n",
        "    def loss(self, pred, label):\n",
        "        return self.criterion(pred, label)"
      ],
      "metadata": {
        "id": "vvG9za5EgXcs"
      },
      "execution_count": 3,
      "outputs": []
    },
    {
      "cell_type": "code",
      "source": [
        "def train(model, dataset, data, epochs, print_steps, batch_size, optimizer, evaluator):\n",
        "    split_idx = dataset.get_idx_split()\n",
        "    train_idx, valid_idx, test_idx = split_idx[\"train\"], split_idx[\"valid\"], split_idx[\"test\"]\n",
        "\n",
        "    train_loader = DataLoader(train_idx, batch_size=batch_size, shuffle=True)\n",
        "    valid_loader = DataLoader(valid_idx, batch_size=batch_size, shuffle=False)\n",
        "    test_loader = DataLoader(test_idx, batch_size=batch_size, shuffle=False)\n",
        "\n",
        "    # Apprentissage\n",
        "    print(\"Learning...\")\n",
        "    best_valid_acc = 0\n",
        "    best_epoch = 0\n",
        "    best_model = model\n",
        "    best_loss = 0\n",
        "\n",
        "    for epoch in range(1, epochs + 1):\n",
        "        total_loss = 0\n",
        "        model.train()\n",
        "        for batch in train_loader:\n",
        "            optimizer.zero_grad()\n",
        "            x, edge_index = data.x, data.adj_t\n",
        "            out = model(x, edge_index)[train_idx]\n",
        "            label = data.y[train_idx]\n",
        "            loss = model.loss(out, label.squeeze(1))\n",
        "            loss.backward()\n",
        "            optimizer.step()\n",
        "            total_loss += loss.item()\n",
        "        total_loss /= len(train_loader)\n",
        "\n",
        "        valid_acc = test(valid_loader, data, valid_idx, model, evaluator)\n",
        "\n",
        "        if valid_acc > best_valid_acc:\n",
        "            best_valid_acc = valid_acc\n",
        "            torch.save(model, 'model.pth')\n",
        "            best_epoch = epoch\n",
        "            best_loss = total_loss\n",
        "\n",
        "        if epoch % print_steps == 0:\n",
        "            print(\"Itération {}. Loss: {:.4f}. Validation: {:.4f}\".format(\n",
        "                epoch, total_loss, valid_acc))\n",
        "\n",
        "    print()\n",
        "    print()\n",
        "    print(\"Evaluating...\")\n",
        "    print()\n",
        "    best_model = torch.load('model.pth')\n",
        "    test_acc = test(test_loader, data, test_idx, best_model, evaluator)\n",
        "    print(f'Best model at epoch: {best_epoch:02d}')\n",
        "    print(f'Loss: {best_loss:.4f}, '\n",
        "          f'Test: {100 * test_acc:.2f}%')\n",
        "\n",
        "    return model"
      ],
      "metadata": {
        "id": "h8YcItHcgZz4"
      },
      "execution_count": 8,
      "outputs": []
    },
    {
      "cell_type": "code",
      "source": [
        "def test(loader, data, data_idx, model, evaluator):\n",
        "    model.eval()\n",
        "\n",
        "    preds = []\n",
        "    labels = []\n",
        "\n",
        "    with torch.no_grad():\n",
        "      for batch in loader:\n",
        "            x, edge_index = data.x, data.adj_t\n",
        "            out = model(x, edge_index)\n",
        "            pred = out.argmax(dim=-1, keepdim=False)\n",
        "            label = data.y[data_idx]\n",
        "            preds.append(pred[data_idx].detach().cpu())\n",
        "            labels.append(label.view(label.shape).detach().cpu())\n",
        "\n",
        "    preds = torch.cat(preds, dim=0).unsqueeze(1).numpy()\n",
        "    labels = torch.cat(labels, dim=0).numpy()\n",
        "    \n",
        "    input_dict = {\"y_true\": labels, \"y_pred\": preds}\n",
        "    return evaluator.eval(input_dict)['acc']"
      ],
      "metadata": {
        "id": "m3J7aWP1gcpC"
      },
      "execution_count": 9,
      "outputs": []
    },
    {
      "cell_type": "code",
      "source": [
        "def run():\n",
        "    d_name = \"ogbn-arxiv\"\n",
        "\n",
        "    dataset = PygNodePropPredDataset(name=d_name, transform=T.ToSparseTensor())\n",
        "    data = dataset[0]\n",
        "    data.adj_t = data.adj_t.to_symmetric()\n",
        "    data = data.to(device)\n",
        "    evaluator = Evaluator(name=d_name)\n",
        "\n",
        "    epochs = 10\n",
        "    print_steps = 1\n",
        "\n",
        "    lr = 0.01\n",
        "    batch_size = 256  # 2048 ou 169343 // 10 (pour aller plus vite pour tester, mais perfs possiblement moins bonnes)\n",
        "\n",
        "    input_dim = dataset.num_node_features\n",
        "    hidden_dim = 256\n",
        "    conv_type = \"GCN\"\n",
        "    num_conv_layer = 3\n",
        "    dropout = 0.25\n",
        "\n",
        "    criterion = nn.CrossEntropyLoss()\n",
        "    model = GNN(input_dim, hidden_dim, dataset.num_classes, criterion, conv_type=conv_type, num_layer=num_conv_layer, dropout=dropout).to(device)\n",
        "    optimizer = torch.optim.Adam(model.parameters(), lr=lr)\n",
        "\n",
        "    model = train(model, dataset, data, epochs, print_steps, batch_size, optimizer, evaluator)"
      ],
      "metadata": {
        "id": "1DU9TLvgge5A"
      },
      "execution_count": 10,
      "outputs": []
    },
    {
      "cell_type": "code",
      "source": [
        "device = 'cuda' if torch.cuda.is_available() else 'cpu'\n",
        "device = torch.device(device)\n",
        "print(\"Device : \", device)\n",
        "\n",
        "run()"
      ],
      "metadata": {
        "colab": {
          "base_uri": "https://localhost:8080/"
        },
        "id": "Or7k66mBghCR",
        "outputId": "4b7977a1-2091-4b13-e21c-6126077df068"
      },
      "execution_count": null,
      "outputs": [
        {
          "output_type": "stream",
          "name": "stdout",
          "text": [
            "Device :  cuda\n",
            "Learning...\n"
          ]
        }
      ]
    }
  ]
}